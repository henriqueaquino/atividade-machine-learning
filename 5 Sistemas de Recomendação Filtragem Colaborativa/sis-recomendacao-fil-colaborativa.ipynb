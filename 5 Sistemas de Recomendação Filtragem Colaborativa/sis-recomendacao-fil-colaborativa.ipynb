{
 "cells": [
  {
   "cell_type": "code",
   "execution_count": 1,
   "id": "44ebe530-46c1-47ce-a2c8-93d6ef392394",
   "metadata": {},
   "outputs": [],
   "source": [
    "import numpy as np\n",
    "import pandas as pd\n",
    "from sklearn.metrics.pairwise import cosine_similarity"
   ]
  },
  {
   "cell_type": "code",
   "execution_count": 2,
   "id": "24669c66-be4b-4dba-8370-ccc55303c6d7",
   "metadata": {},
   "outputs": [],
   "source": [
    "data = {\n",
    "    'User': ['User1', 'User2', 'User3', 'User4', 'User5'],\n",
    "    'Movie1': [5, 4, 1, np.nan, 2],\n",
    "    'Movie2': [4, 5, 2, 2, 1],\n",
    "    'Movie3': [1, 2, 4, 5, 4],\n",
    "    'Movie4': [np.nan, 3, 5, 3, 5],\n",
    "    'Movie5': [2, np.nan, 5, 4, 3],\n",
    "}\n",
    "\n",
    "df = pd.DataFrame(data).set_index('User')"
   ]
  },
  {
   "cell_type": "code",
   "execution_count": 3,
   "id": "417b3bc2-0e16-4c27-b98d-03cbb429c593",
   "metadata": {},
   "outputs": [],
   "source": [
    "df_filled = df.fillna(0)"
   ]
  },
  {
   "cell_type": "code",
   "execution_count": 4,
   "id": "0888f002-704d-4104-971b-4158550ac7ce",
   "metadata": {},
   "outputs": [],
   "source": [
    "def user_based_recommendation(df, target_user):\n",
    "    user_similarity = cosine_similarity(df)\n",
    "    \n",
    "    user_similarity_df = pd.DataFrame(user_similarity, index=df.index, columns=df.index)\n",
    "    \n",
    "    similar_users = user_similarity_df[target_user].sort_values(ascending=False)\n",
    "    \n",
    "    similar_users = similar_users.drop(target_user)\n",
    "    weighted_ratings = np.dot(similar_users, df.loc[similar_users.index]) / np.sum(similar_users)\n",
    "    \n",
    "    recommendations = pd.Series(weighted_ratings, index=df.columns).sort_values(ascending=False)\n",
    "    return recommendations"
   ]
  },
  {
   "cell_type": "code",
   "execution_count": 5,
   "id": "b43d62a1-c263-42c3-9684-ec12d5134d46",
   "metadata": {},
   "outputs": [],
   "source": [
    "def item_based_recommendation(df, target_user):\n",
    "    item_similarity = cosine_similarity(df.T)\n",
    "    \n",
    "    item_similarity_df = pd.DataFrame(item_similarity, index=df.columns, columns=df.columns)\n",
    "    \n",
    "    user_ratings = df.loc[target_user]\n",
    "    \n",
    "    weighted_ratings = np.dot(user_ratings, item_similarity_df) / np.sum(item_similarity_df, axis=1)\n",
    "    \n",
    "    recommendations = pd.Series(weighted_ratings, index=df.columns).sort_values(ascending=False)\n",
    "    return recommendations"
   ]
  },
  {
   "cell_type": "code",
   "execution_count": 6,
   "id": "6a7c8979-c798-43ed-b96e-974f716f811c",
   "metadata": {},
   "outputs": [
    {
     "name": "stdout",
     "output_type": "stream",
     "text": [
      "Recomendações baseadas em usuário para User1:\n",
      "Movie4    3.857947\n",
      "Movie3    3.428973\n",
      "Movie2    2.926506\n",
      "Movie5    2.475141\n",
      "Movie1    2.167258\n",
      "dtype: float64\n"
     ]
    }
   ],
   "source": [
    "user_recommendations = user_based_recommendation(df_filled, 'User1')\n",
    "print(\"Recomendações baseadas em usuário para User1:\")\n",
    "print(user_recommendations)"
   ]
  },
  {
   "cell_type": "code",
   "execution_count": 7,
   "id": "9a1ef83a-0014-4f92-bc78-6c60983372ff",
   "metadata": {},
   "outputs": [
    {
     "name": "stdout",
     "output_type": "stream",
     "text": [
      "\n",
      "Recomendações baseadas em item para User1:\n",
      "Movie1    3.033918\n",
      "Movie2    2.767747\n",
      "Movie3    1.954512\n",
      "Movie4    1.934219\n",
      "Movie5    1.928597\n",
      "dtype: float64\n"
     ]
    }
   ],
   "source": [
    "item_recommendations = item_based_recommendation(df_filled, 'User1')\n",
    "print(\"\\nRecomendações baseadas em item para User1:\")\n",
    "print(item_recommendations)"
   ]
  },
  {
   "cell_type": "code",
   "execution_count": null,
   "id": "224288c3-af7a-47fd-b232-3b6619893075",
   "metadata": {},
   "outputs": [],
   "source": []
  }
 ],
 "metadata": {
  "kernelspec": {
   "display_name": "Python 3 (ipykernel)",
   "language": "python",
   "name": "python3"
  },
  "language_info": {
   "codemirror_mode": {
    "name": "ipython",
    "version": 3
   },
   "file_extension": ".py",
   "mimetype": "text/x-python",
   "name": "python",
   "nbconvert_exporter": "python",
   "pygments_lexer": "ipython3",
   "version": "3.12.4"
  }
 },
 "nbformat": 4,
 "nbformat_minor": 5
}
