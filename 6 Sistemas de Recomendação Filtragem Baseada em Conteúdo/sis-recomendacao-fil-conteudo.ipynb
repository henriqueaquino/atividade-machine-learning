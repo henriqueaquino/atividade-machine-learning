{
 "cells": [
  {
   "cell_type": "code",
   "execution_count": 1,
   "id": "739c6080-e035-484c-a7fb-bf1ef4c1731d",
   "metadata": {},
   "outputs": [],
   "source": [
    "import pandas as pd\n",
    "from sklearn.feature_extraction.text import TfidfVectorizer\n",
    "from sklearn.metrics.pairwise import cosine_similarity"
   ]
  },
  {
   "cell_type": "code",
   "execution_count": 2,
   "id": "eaed2821-ccc6-4a92-b90c-521e1c9b1b49",
   "metadata": {},
   "outputs": [],
   "source": [
    "data = {\n",
    "    'ProductID': [1, 2, 3, 4, 5],\n",
    "    'ProductName': ['Laptop', 'Mouse', 'Teclado', 'Monitor', 'Impressora'],\n",
    "    'Description': [\n",
    "        'Laptop com processador i7, 16GB RAM e 512GB SSD',\n",
    "        'Mouse sem fio com alta precisão e 2 anos de bateria',\n",
    "        'Teclado mecânico RGB com switches rápidos e silenciosos',\n",
    "        'Monitor Full HD de 24 polegadas com bordas finas',\n",
    "        'Impressora multifuncional com scanner e impressão rápida'\n",
    "    ]\n",
    "}\n",
    "\n",
    "df = pd.DataFrame(data)"
   ]
  },
  {
   "cell_type": "code",
   "execution_count": 3,
   "id": "21febcb4-418a-41e5-981f-1ff2a809e173",
   "metadata": {},
   "outputs": [],
   "source": [
    "tfidf = TfidfVectorizer(stop_words='english')\n",
    "tfidf_matrix = tfidf.fit_transform(df['Description'])"
   ]
  },
  {
   "cell_type": "code",
   "execution_count": 4,
   "id": "0e89b03f-6ffb-46d3-af5d-0b58197ac2c6",
   "metadata": {},
   "outputs": [],
   "source": [
    "cosine_sim = cosine_similarity(tfidf_matrix, tfidf_matrix)"
   ]
  },
  {
   "cell_type": "code",
   "execution_count": 5,
   "id": "e7ff0456-73c3-4d08-ba37-807d5f3b8893",
   "metadata": {},
   "outputs": [],
   "source": [
    "def recommend_products(product_name, df, cosine_sim):\n",
    "    idx = df[df['ProductName'] == product_name].index[0]\n",
    "    \n",
    "    sim_scores = list(enumerate(cosine_sim[idx]))\n",
    "    sim_scores = sorted(sim_scores, key=lambda x: x[1], reverse=True)\n",
    "    \n",
    "    sim_scores = sim_scores[1:4]\n",
    "    \n",
    "    product_indices = [i[0] for i in sim_scores]\n",
    "    return df['ProductName'].iloc[product_indices]"
   ]
  },
  {
   "cell_type": "code",
   "execution_count": 6,
   "id": "a042cfb0-b4ba-4374-a38e-ddd32235ddb5",
   "metadata": {},
   "outputs": [
    {
     "name": "stdout",
     "output_type": "stream",
     "text": [
      "Recomendações para o produto 'Laptop':\n",
      "4    Impressora\n",
      "2       Teclado\n",
      "3       Monitor\n",
      "Name: ProductName, dtype: object\n"
     ]
    }
   ],
   "source": [
    "product_name = 'Laptop'\n",
    "recommended_products = recommend_products(product_name, df, cosine_sim)\n",
    "print(f\"Recomendações para o produto '{product_name}':\")\n",
    "print(recommended_products)"
   ]
  },
  {
   "cell_type": "code",
   "execution_count": null,
   "id": "bdbbcff2-e25a-45ba-a0fd-ce253b5a2a55",
   "metadata": {},
   "outputs": [],
   "source": []
  }
 ],
 "metadata": {
  "kernelspec": {
   "display_name": "Python 3 (ipykernel)",
   "language": "python",
   "name": "python3"
  },
  "language_info": {
   "codemirror_mode": {
    "name": "ipython",
    "version": 3
   },
   "file_extension": ".py",
   "mimetype": "text/x-python",
   "name": "python",
   "nbconvert_exporter": "python",
   "pygments_lexer": "ipython3",
   "version": "3.12.4"
  }
 },
 "nbformat": 4,
 "nbformat_minor": 5
}
